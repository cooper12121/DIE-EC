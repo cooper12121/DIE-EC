{
 "cells": [
  {
   "cell_type": "code",
   "execution_count": 3,
   "metadata": {},
   "outputs": [
    {
     "ename": "ModuleNotFoundError",
     "evalue": "No module named 'transformers.modeling_xlnet'",
     "output_type": "error",
     "traceback": [
      "\u001B[1;31m---------------------------------------------------------------------------\u001B[0m",
      "\u001B[1;31mModuleNotFoundError\u001B[0m                       Traceback (most recent call last)",
      "\u001B[1;32me:\\direction\\EE\\sota_end2end_parser\\data\\models_saved\\transfor_model.ipynb Cell 1\u001B[0m in \u001B[0;36m<cell line: 6>\u001B[1;34m()\u001B[0m\n\u001B[0;32m      <a href='vscode-notebook-cell:/e%3A/direction/EE/sota_end2end_parser/data/models_saved/transfor_model.ipynb#W1sZmlsZQ%3D%3D?line=3'>4</a>\u001B[0m \u001B[39mimport\u001B[39;00m \u001B[39mtorch\u001B[39;00m\n\u001B[0;32m      <a href='vscode-notebook-cell:/e%3A/direction/EE/sota_end2end_parser/data/models_saved/transfor_model.ipynb#W1sZmlsZQ%3D%3D?line=4'>5</a>\u001B[0m \u001B[39mfrom\u001B[39;00m \u001B[39mtransformers\u001B[39;00m \u001B[39mimport\u001B[39;00m \u001B[39m*\u001B[39m\n\u001B[1;32m----> <a href='vscode-notebook-cell:/e%3A/direction/EE/sota_end2end_parser/data/models_saved/transfor_model.ipynb#W1sZmlsZQ%3D%3D?line=5'>6</a>\u001B[0m model \u001B[39m=\u001B[39m torch\u001B[39m.\u001B[39;49mload(\u001B[39m'\u001B[39;49m\u001B[39m./xl_model_3_8.pth\u001B[39;49m\u001B[39m'\u001B[39;49m,map_location\u001B[39m=\u001B[39;49m\u001B[39m'\u001B[39;49m\u001B[39mcpu\u001B[39;49m\u001B[39m'\u001B[39;49m)\n\u001B[0;32m      <a href='vscode-notebook-cell:/e%3A/direction/EE/sota_end2end_parser/data/models_saved/transfor_model.ipynb#W1sZmlsZQ%3D%3D?line=6'>7</a>\u001B[0m torch\u001B[39m.\u001B[39msave(model,\u001B[39m'\u001B[39m\u001B[39m./xl_model_3_9.pth\u001B[39m\u001B[39m'\u001B[39m)\n",
      "File \u001B[1;32md:\\download\\anaconda3\\lib\\site-packages\\torch\\serialization.py:712\u001B[0m, in \u001B[0;36mload\u001B[1;34m(f, map_location, pickle_module, **pickle_load_args)\u001B[0m\n\u001B[0;32m    710\u001B[0m             opened_file\u001B[39m.\u001B[39mseek(orig_position)\n\u001B[0;32m    711\u001B[0m             \u001B[39mreturn\u001B[39;00m torch\u001B[39m.\u001B[39mjit\u001B[39m.\u001B[39mload(opened_file)\n\u001B[1;32m--> 712\u001B[0m         \u001B[39mreturn\u001B[39;00m _load(opened_zipfile, map_location, pickle_module, \u001B[39m*\u001B[39m\u001B[39m*\u001B[39mpickle_load_args)\n\u001B[0;32m    713\u001B[0m \u001B[39mreturn\u001B[39;00m _legacy_load(opened_file, map_location, pickle_module, \u001B[39m*\u001B[39m\u001B[39m*\u001B[39mpickle_load_args)\n",
      "File \u001B[1;32md:\\download\\anaconda3\\lib\\site-packages\\torch\\serialization.py:1049\u001B[0m, in \u001B[0;36m_load\u001B[1;34m(zip_file, map_location, pickle_module, pickle_file, **pickle_load_args)\u001B[0m\n\u001B[0;32m   1047\u001B[0m unpickler \u001B[39m=\u001B[39m UnpicklerWrapper(data_file, \u001B[39m*\u001B[39m\u001B[39m*\u001B[39mpickle_load_args)\n\u001B[0;32m   1048\u001B[0m unpickler\u001B[39m.\u001B[39mpersistent_load \u001B[39m=\u001B[39m persistent_load\n\u001B[1;32m-> 1049\u001B[0m result \u001B[39m=\u001B[39m unpickler\u001B[39m.\u001B[39;49mload()\n\u001B[0;32m   1051\u001B[0m torch\u001B[39m.\u001B[39m_utils\u001B[39m.\u001B[39m_validate_loaded_sparse_tensors()\n\u001B[0;32m   1053\u001B[0m \u001B[39mreturn\u001B[39;00m result\n",
      "File \u001B[1;32md:\\download\\anaconda3\\lib\\site-packages\\torch\\serialization.py:1042\u001B[0m, in \u001B[0;36m_load.<locals>.UnpicklerWrapper.find_class\u001B[1;34m(self, mod_name, name)\u001B[0m\n\u001B[0;32m   1040\u001B[0m         \u001B[39mpass\u001B[39;00m\n\u001B[0;32m   1041\u001B[0m mod_name \u001B[39m=\u001B[39m load_module_mapping\u001B[39m.\u001B[39mget(mod_name, mod_name)\n\u001B[1;32m-> 1042\u001B[0m \u001B[39mreturn\u001B[39;00m \u001B[39msuper\u001B[39;49m()\u001B[39m.\u001B[39;49mfind_class(mod_name, name)\n",
      "\u001B[1;31mModuleNotFoundError\u001B[0m: No module named 'transformers.modeling_xlnet'"
     ]
    }
   ],
   "source": [
    "\"\"\" \n",
    "将Model加载进来再保存为当前torch的版本\n",
    "\"\"\"\n",
    "import torch\n",
    "from transformers import *\n",
    "model = torch.load('./xl_model_3_8.pth',map_location='cpu')\n",
    "torch.save(model,'./xl_model_3_9.pth')"
   ]
  }
 ],
 "metadata": {
  "kernelspec": {
   "display_name": "base",
   "language": "python",
   "name": "python3"
  },
  "language_info": {
   "codemirror_mode": {
    "name": "ipython",
    "version": 3
   },
   "file_extension": ".py",
   "mimetype": "text/x-python",
   "name": "python",
   "nbconvert_exporter": "python",
   "pygments_lexer": "ipython3",
   "version": "3.9.12"
  },
  "orig_nbformat": 4
 },
 "nbformat": 4,
 "nbformat_minor": 2
}

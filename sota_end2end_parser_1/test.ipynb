{
 "cells": [
  {
   "cell_type": "code",
   "execution_count": null,
   "metadata": {
    "collapsed": true
   },
   "outputs": [],
   "source": [
    "text='From then on , the members continued their separate careers . Danny Boy founded an art company . DJ Lethal became a member of nu metal band Limp Bizkit , who would cover \" Jump Around \" at live concerts , particularly in Limp Bizkit \\'s early years during the Family Values Tour 1998 . Everlast achieved multi-platinum solo fame in 1998 with his album \\'\\' Whitey Ford Sings the Blues . \\'\\' The first single from that album was \" What It \\'s Like \" . In 2000 , a feud between Everlast and rapper Eminem coincided with the gold-selling \\'\\' Eat at Whitey \\'s \\'\\' , which included minor hits \" Black Jesus \" and \" Black Coffee \" , and featured a collaboration with Carlos Santana . After the sale of the Tommy Boy Records \\' master tapes to Warner Bros . Records , Everlast signed with Island/Def Jam , and released his \\'\\' White Trash Beautiful \\'\\' LP in 2004'"
   ]
  },
  {
   "cell_type": "code",
   "execution_count": null,
   "metadata": {},
   "outputs": [],
   "source": [
    "from torch_geometric_temporal.dataset import WikiMathsDatasetLoader\n",
    "from torch_geometric_temporal.signal import temporal_signal_split\n",
    "\n",
    "loader = WikiMathsDatasetLoader()\n",
    "\n",
    "dataset = loader.get_dataset(lags=14)\n",
    "\n",
    "train_dataset, test_dataset = temporal_signal_split(dataset, train_ratio=0.5)\n",
    "import torch\n",
    "import torch.nn.functional as F\n",
    "from torch_geometric_temporal.nn.recurrent import GConvGRU\n",
    "\n",
    "class RecurrentGCN(torch.nn.Module):\n",
    "    def __init__(self, node_features, filters):\n",
    "        super(RecurrentGCN, self).__init__()\n",
    "        self.recurrent = GConvGRU(node_features, filters, 2)\n",
    "        self.linear = torch.nn.Linear(filters, 1)\n",
    "\n",
    "    def forward(self, x, edge_index, edge_weight):\n",
    "        h = self.recurrent(x, edge_index, edge_weight)\n",
    "        h = F.relu(h)\n",
    "        h = self.linear(h)\n",
    "        return h\n",
    "from tqdm import tqdm\n",
    "\n",
    "model = RecurrentGCN(node_features=14, filters=32)\n",
    "\n",
    "optimizer = torch.optim.Adam(model.parameters(), lr=0.01)\n",
    "\n",
    "model.train()\n",
    "\n",
    "for epoch in tqdm(range(50)):\n",
    "    for time, snapshot in enumerate(train_dataset):\n",
    "        y_hat = model(snapshot.x, snapshot.edge_index, snapshot.edge_attr)\n",
    "        cost = torch.mean((y_hat-snapshot.y)**2)\n",
    "        cost.backward()\n",
    "        optimizer.step()\n",
    "        optimizer.zero_grad()"
   ]
  },
  {
   "cell_type": "code",
   "execution_count": null,
   "metadata": {},
   "outputs": [],
   "source": [
    "#!/usr/bin/env python\n",
    "# -*- coding: utf-8 -*-\n",
    "# @Time    : 2023/6/24 13:56\n",
    "# @Author  : gao qiang\n",
    "# @Site    :\n",
    "# @File    : graph\n",
    "# @Project : sota_end2end_parser\n",
    "\n",
    "'''\n",
    "将RST树构造为图用GAT处理\n",
    "'''\n",
    "import dgl\n",
    "import numpy as np\n",
    "import networkx as nx\n",
    "\n",
    "\n",
    "def build_graph():\n",
    "    # All 78 edges are stored in two numpy arrays. One for source endpoints\n",
    "    # while the other for destination endpoints.\n",
    "    src = np.array([1, 2, 2, 3, 3, 3, 4, 5, 6, 6, 6, 7, 7, 7, 7, 8, 8, 9, 10, 10,\n",
    "                    10, 11, 12, 12, 13, 13, 13, 13, 16, 16, 17, 17, 19, 19, 21, 21,\n",
    "                    25, 25, 27, 27, 27, 28, 29, 29, 30, 30, 31, 31, 31, 31, 32, 32,\n",
    "                    32, 32, 32, 32, 32, 32, 32, 32, 32, 33, 33, 33, 33, 33, 33, 33,\n",
    "                    33, 33, 33, 33, 33, 33, 33, 33, 33, 33])\n",
    "    dst = np.array([0, 0, 1, 0, 1, 2, 0, 0, 0, 4, 5, 0, 1, 2, 3, 0, 2, 2, 0, 4,\n",
    "                    5, 0, 0, 3, 0, 1, 2, 3, 5, 6, 0, 1, 0, 1, 0, 1, 23, 24, 2, 23,\n",
    "                    24, 2, 23, 26, 1, 8, 0, 24, 25, 28, 2, 8, 14, 15, 18, 20, 22, 23,\n",
    "                    29, 30, 31, 8, 9, 13, 14, 15, 18, 19, 20, 22, 23, 26, 27, 28, 29, 30,\n",
    "                    31, 32])\n",
    "    # Edges are directional in DGL; Make them bi-directional.\n",
    "    u = np.concatenate([src, dst])\n",
    "    v = np.concatenate([dst, src])\n",
    "    # Construct a DGLGraph\n",
    "    # dgl.DGLGraph()\n",
    "    return dgl.graph((u, v))\n",
    "\n",
    "\n",
    "def graph_visualization(G: dgl.DGLGraph):\n",
    "    # %matplotlib inline jupyter\n",
    "    # Since the actual graph is undirected, we convert it for visualization\n",
    "    # purpose.\n",
    "    nx_G = G.to_networkx().to_undirected()\n",
    "    # Kamada-Kawaii layout usually looks pretty for arbitrary graphs\n",
    "    pos = nx.kamada_kawai_layout(nx_G)\n",
    "    nx.draw(nx_G, pos, with_labels=True, node_color=[[.7, .7, .7]])\n",
    "\n",
    "\n",
    "def process_graph():\n",
    "    G = build_graph()\n",
    "    print('We have %d nodes.' % G.number_of_nodes())\n",
    "    print('We have %d edges.' % G.number_of_edges())\n",
    "    graph_visualization(G)\n",
    "process_graph()"
   ]
  },
  {
   "cell_type": "code",
   "execution_count": null,
   "outputs": [],
   "source": [
    "import torch\n",
    "x = torch.randn((5,2,1))\n",
    "print(x)\n",
    "y=torch.concat((x[:][0][:],x[:][1][:]),dim=1)\n",
    "print(y)\n",
    "y.shape\n"
   ],
   "metadata": {
    "collapsed": false,
    "pycharm": {
     "is_executing": true
    }
   }
  }
 ],
 "metadata": {
  "kernelspec": {
   "display_name": "Python 3",
   "language": "python",
   "name": "python3"
  },
  "language_info": {
   "codemirror_mode": {
    "name": "ipython",
    "version": 3
   },
   "file_extension": ".py",
   "mimetype": "text/x-python",
   "name": "python",
   "nbconvert_exporter": "python",
   "pygments_lexer": "ipython3",
   "version": "3.9.12"
  }
 },
 "nbformat": 4,
 "nbformat_minor": 0
}
